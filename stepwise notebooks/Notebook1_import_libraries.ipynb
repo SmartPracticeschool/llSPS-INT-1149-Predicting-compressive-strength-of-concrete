{
 "cells": [
  {
   "cell_type": "markdown",
   "metadata": {},
   "source": [
    "# Importing libraries"
   ]
  },
  {
   "cell_type": "markdown",
   "metadata": {},
   "source": [
    "# ---------------------------------------- Basic libraries -----------------------------------------\n",
    "\n",
    "\n",
    "# numpy :\n",
    "\n",
    "    -> NumPy is a Python package which stands for 'Numerical Python'. \n",
    "    -> It is the core library for scientific computing, which contains a powerful n-dimensional array object.\n",
    "    -> It can be utilised to perform a number of mathematical operations on arrays.\n",
    "    -> It has a lot in-built statistical functions. It can be to calculate to Mean, Median, Standard Deviation and Variance. \n",
    "    \n",
    "# pandas :\n",
    "\n",
    "    -> Pandas is an open-source library that is built on top of NumPy library. \n",
    "    -> It is a Python package that offers various data structures and operations for manipulating numerical data.\n",
    "    -> It is mainly popular for importing and analyzing data much easier."
   ]
  },
  {
   "cell_type": "code",
   "execution_count": 1,
   "metadata": {},
   "outputs": [],
   "source": [
    "import numpy as np\n",
    "import pandas as pd"
   ]
  },
  {
   "cell_type": "markdown",
   "metadata": {},
   "source": [
    "# --------------------------------- Visualization libraries ----------------------------------------"
   ]
  },
  {
   "cell_type": "markdown",
   "metadata": {},
   "source": [
    "# matplotlib :\n",
    "\n",
    "    -> Matplotlib is a comprehensive library for creating static, animated, and interactive visualizations in Python. \n",
    "    -> matplotlib. pyplot is a collection of command style functions. Each pyplot function makes some change to \n",
    "       a figure: e.g., creates a figure, creates a plotting area in a figure, plots some lines in a \n",
    "       plotting area, decorates the plot with labels, etc.\n",
    "       \n",
    "# seaborn :\n",
    "    \n",
    "    -> Seaborn is a Python data visualization library based on matplotlib. \n",
    "    -> It provides a high-level interface for drawing attractive and informative statistical graphics.\n",
    "    \n",
    "# plotly :\n",
    "\n",
    "    -> The plotly Python library (plotly.py) is an interactive, open-source plotting library that supports \n",
    "       over 40 unique chart types covering a wide range of statistical, financial, geographic, scientific\n",
    "       and 3-dimensional use-cases.\n",
    "    -> Plotly Express is a new high-level Python visualization library: it’s a wrapper for Plotly.py that exposes a \n",
    "       simple syntax for complex charts."
   ]
  },
  {
   "cell_type": "code",
   "execution_count": 2,
   "metadata": {},
   "outputs": [],
   "source": [
    "import matplotlib.pyplot as plt\n",
    "\n",
    "import seaborn as sns\n",
    "\n",
    "import plotly\n",
    "import plotly.express as px"
   ]
  },
  {
   "cell_type": "markdown",
   "metadata": {},
   "source": [
    "# scipy. stats:\n",
    "\n",
    "    -> This module contains a large number of probability distributions as well as a growing library of\n",
    "       statistical functions."
   ]
  },
  {
   "cell_type": "code",
   "execution_count": 3,
   "metadata": {},
   "outputs": [],
   "source": [
    "from scipy import stats"
   ]
  },
  {
   "cell_type": "markdown",
   "metadata": {},
   "source": [
    "# Scikit-learn (sklearn):\n",
    "\n",
    "    -> It is probably the most useful library for machine learning in Python. \n",
    "    -> The sklearn library contains a lot of efficient tools for machine learning and statistical modeling \n",
    "       including classification, regression, clustering and dimensionality reduction.\n",
    "    -> 'preprocessing' library is used to apply normalization on the data."
   ]
  },
  {
   "cell_type": "code",
   "execution_count": 4,
   "metadata": {},
   "outputs": [],
   "source": [
    "from sklearn import preprocessing"
   ]
  },
  {
   "cell_type": "markdown",
   "metadata": {},
   "source": [
    "# train_test_split:\n",
    "\n",
    "    -> It is used to split the data into training data and test data"
   ]
  },
  {
   "cell_type": "code",
   "execution_count": 5,
   "metadata": {},
   "outputs": [],
   "source": [
    "from sklearn.model_selection import train_test_split"
   ]
  },
  {
   "cell_type": "markdown",
   "metadata": {},
   "source": [
    "# import metrics from 'sklearn.metrics'"
   ]
  },
  {
   "cell_type": "code",
   "execution_count": 6,
   "metadata": {},
   "outputs": [],
   "source": [
    "from sklearn.metrics import mean_squared_error\n",
    "from sklearn.metrics import r2_score\n",
    "from sklearn.metrics import mean_absolute_error"
   ]
  },
  {
   "cell_type": "markdown",
   "metadata": {},
   "source": [
    "# Import the regression models"
   ]
  },
  {
   "cell_type": "code",
   "execution_count": 7,
   "metadata": {},
   "outputs": [],
   "source": [
    "from sklearn import linear_model as lm"
   ]
  },
  {
   "cell_type": "code",
   "execution_count": 8,
   "metadata": {},
   "outputs": [],
   "source": [
    "from sklearn.tree import DecisionTreeRegressor"
   ]
  },
  {
   "cell_type": "code",
   "execution_count": 9,
   "metadata": {},
   "outputs": [],
   "source": [
    "from sklearn.ensemble import RandomForestRegressor "
   ]
  },
  {
   "cell_type": "code",
   "execution_count": 10,
   "metadata": {},
   "outputs": [],
   "source": [
    "from sklearn.ensemble import ExtraTreesRegressor"
   ]
  },
  {
   "cell_type": "code",
   "execution_count": 11,
   "metadata": {},
   "outputs": [],
   "source": [
    "from sklearn.ensemble import GradientBoostingRegressor"
   ]
  }
 ],
 "metadata": {
  "kernelspec": {
   "display_name": "Python 3",
   "language": "python",
   "name": "python3"
  },
  "language_info": {
   "codemirror_mode": {
    "name": "ipython",
    "version": 3
   },
   "file_extension": ".py",
   "mimetype": "text/x-python",
   "name": "python",
   "nbconvert_exporter": "python",
   "pygments_lexer": "ipython3",
   "version": "3.7.3"
  }
 },
 "nbformat": 4,
 "nbformat_minor": 2
}
